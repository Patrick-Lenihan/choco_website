{
 "cells": [
  {
   "cell_type": "markdown",
   "id": "17e8cd5b",
   "metadata": {},
   "source": [
    "---\n",
    "title: \"Parsing\"\n",
    "date: 2020-01-07T16:08:22+01:00\n",
    "weight: 4\n",
    "description: >\n",
    "  What does your user need to know to parse a model?\n",
    "---"
   ]
  },
  {
   "cell_type": "markdown",
   "id": "0a468f87",
   "metadata": {},
   "source": [
    "_This file can be downloaded as a [jupyter notebook](https://jupyter.org/) and executed with a [Java kernel](https://github.com/SpencerPark/IJava). The next cell is then used to add the dependency to choco and can be ignored otherwise._ \n",
    "\n",
    "[>> ipynb <<](</notebooks/content/en/docs/Solving/Solving.ipynb>)"
   ]
  },
  {
   "cell_type": "code",
   "execution_count": 7,
   "id": "440fe1f0",
   "metadata": {},
   "outputs": [],
   "source": [
    "// Add maven dependencies at runtime \n",
    "%maven org.choco-solver:choco-parsers:4.10.13"
   ]
  },
  {
   "cell_type": "markdown",
   "id": "5b404d81",
   "metadata": {},
   "source": [
    "----\n",
    "\n",
    "In addition to the modelling language, Choco-solver can parse files in [XCSP3](https://xcsp.org/competitions/), [MiniZinc (flatzinc)](https://www.minizinc.org/) and [DIMACS](https://jix.github.io/varisat/manual/0.2.0/formats/dimacs.html) formats.\n",
    "\n",
    "The standard practice is to call the choco JAR directly with the instance as an argument, such as:\n",
    "```bash\n",
    "java -jar choco-parsers-4.10.13-light.jar /path/to/the/instance\n",
    "```\n",
    "but it is also possible to solve an instance programmatically.\n",
    "\n",
    "***Remark***\n",
    "\n",
    "XCSP3 and DIMACS files do not require any preliminary steps and can therefore be read and resolved directly.\n",
    "\n",
    "\n",
    "### XCSP3\n",
    "\n",
    "The `X` from XCSP3 stands for xml. \n",
    "An instance in this format looks like:\n",
    "\n",
    "```xml\n",
    "<instance format=\"XCSP3\" type=\"CSP\">\n",
    "  <variables>\n",
    "    <array id=\"q\" size=\"[4]\"> 0..3 </array>\n",
    "  </variables>\n",
    "  <constraints>\n",
    "    <allDifferent> q[] </allDifferent>\n",
    "    <group>\n",
    "      <intension> ne(%0,dist(%1,%2)) </intension>\n",
    "      <args> 1 q[0] q[1] </args>\n",
    "      <args> 2 q[0] q[2] </args>\n",
    "      <args> 3 q[0] q[3] </args>\n",
    "      <args> 1 q[1] q[2] </args>\n",
    "      <args> 2 q[1] q[3] </args>\n",
    "      <args> 1 q[2] q[3] </args>\n",
    "    </group>\n",
    "  </constraints>\n",
    "</instance>\n",
    "```\n"
   ]
  },
  {
   "cell_type": "markdown",
   "id": "cfbcbe53",
   "metadata": {},
   "source": [
    "The main class for solving XCSP3 instance is named `ChocoXCSP`. It only declares a `main` with arguments.\n",
    "\n",
    "_Note that it also possible to call the `Parser` class which is format-blind._"
   ]
  },
  {
   "cell_type": "code",
   "execution_count": 12,
   "id": "a83bf7a1",
   "metadata": {},
   "outputs": [
    {
     "ename": "EvalException",
     "evalue": "org/kohsuke/args4j/CmdLineException",
     "output_type": "error",
     "traceback": [
      "\u001b[1m\u001b[31m---------------------------------------------------------------------------\u001b[0m",
      "\u001b[1m\u001b[31mjava.lang.NoClassDefFoundError: org/kohsuke/args4j/CmdLineException\u001b[0m",
      "\u001b[1m\u001b[31m\tat org.chocosolver.parser.xcsp.ChocoXCSP.main(ChocoXCSP.java:19)\u001b[0m",
      "\u001b[1m\u001b[31m\tat .(#26:1)\u001b[0m"
     ]
    }
   ],
   "source": [
    "import org.chocosolver.parser.xcsp.ChocoXCSP;\n",
    "\n",
    "\n",
    "ChocoXCSP.main(new String[]{\"\"});"
   ]
  },
  {
   "cell_type": "code",
   "execution_count": null,
   "id": "bc7251f2",
   "metadata": {},
   "outputs": [],
   "source": []
  }
 ],
 "metadata": {
  "kernelspec": {
   "display_name": "Java",
   "language": "java",
   "name": "java"
  },
  "language_info": {
   "codemirror_mode": "java",
   "file_extension": ".jshell",
   "mimetype": "text/x-java-source",
   "name": "Java",
   "pygments_lexer": "java",
   "version": "11.0.1+13-LTS"
  }
 },
 "nbformat": 4,
 "nbformat_minor": 5
}
